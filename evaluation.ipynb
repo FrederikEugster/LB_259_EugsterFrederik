{
 "cells": [
  {
   "cell_type": "markdown",
   "id": "8bc97374",
   "metadata": {},
   "source": [
    "\"4.1\"\n",
    "\n",
    "Meiner Meinung nach ist die Spalte Description, also die Art des Verbrechens auf aussagekräftigsten. Bei den anderen Spalten bekommt man nur einzigartige Werte, welche keine Aussage haben, da sie nicht in einer Verbindung miteinander stehen, oder die Spalten haben nicht so interessante Inhalte, wenn sie alleine stehen. Ebenfalls starke Spalten sind der District, also welcher Distrikt von Baltimore und Weapon, welche Waffe benutzt wurde."
   ]
  },
  {
   "cell_type": "code",
   "execution_count": 3,
   "id": "43c61737",
   "metadata": {},
   "outputs": [
    {
     "name": "stdout",
     "output_type": "stream",
     "text": [
      "Requirement already satisfied: sklearn in c:\\apps\\python\\lib\\site-packages (0.0)\n",
      "Requirement already satisfied: scikit-learn in c:\\apps\\python\\lib\\site-packages (from sklearn) (1.0.2)\n",
      "Requirement already satisfied: threadpoolctl>=2.0.0 in c:\\apps\\python\\lib\\site-packages (from scikit-learn->sklearn) (3.1.0)\n",
      "Requirement already satisfied: joblib>=0.11 in c:\\apps\\python\\lib\\site-packages (from scikit-learn->sklearn) (1.1.0)\n",
      "Requirement already satisfied: scipy>=1.1.0 in c:\\apps\\python\\lib\\site-packages (from scikit-learn->sklearn) (1.8.0)\n",
      "Requirement already satisfied: numpy>=1.14.6 in c:\\apps\\python\\lib\\site-packages (from scikit-learn->sklearn) (1.22.3)\n"
     ]
    }
   ],
   "source": [
    "!pip install sklearn"
   ]
  },
  {
   "cell_type": "code",
   "execution_count": 6,
   "id": "601b9ac6",
   "metadata": {},
   "outputs": [
    {
     "name": "stdout",
     "output_type": "stream",
     "text": [
      "Requirement already satisfied: pandas in c:\\apps\\python\\lib\\site-packages (1.4.1)\n",
      "Requirement already satisfied: pytz>=2020.1 in c:\\apps\\python\\lib\\site-packages (from pandas) (2022.1)\n",
      "Requirement already satisfied: numpy>=1.21.0 in c:\\apps\\python\\lib\\site-packages (from pandas) (1.22.3)\n",
      "Requirement already satisfied: python-dateutil>=2.8.1 in c:\\apps\\python\\lib\\site-packages (from pandas) (2.8.2)\n",
      "Requirement already satisfied: six>=1.5 in c:\\apps\\python\\lib\\site-packages (from python-dateutil>=2.8.1->pandas) (1.16.0)\n"
     ]
    }
   ],
   "source": [
    "!pip install pandas"
   ]
  },
  {
   "cell_type": "code",
   "execution_count": 7,
   "id": "32672fe3",
   "metadata": {},
   "outputs": [],
   "source": [
    "import pandas as pd\n",
    "\n",
    "df = pd.read_csv(\"BPD_Victim_Based_Crime_Date_Sorted_With_Numbers.CSV\", on_bad_lines='skip', sep=';')"
   ]
  },
  {
   "cell_type": "code",
   "execution_count": 32,
   "id": "94533227",
   "metadata": {},
   "outputs": [
    {
     "data": {
      "text/plain": [
       "0          23500\n",
       "1          25600\n",
       "2          30000\n",
       "3          30000\n",
       "4          30000\n",
       "           ...  \n",
       "285802    221500\n",
       "285803    223000\n",
       "285804    230000\n",
       "285805    232500\n",
       "285806    233800\n",
       "Name: CrimeTime, Length: 285807, dtype: int32"
      ]
     },
     "execution_count": 32,
     "metadata": {},
     "output_type": "execute_result"
    }
   ],
   "source": [
    "df['CrimeTime'].astype('int')"
   ]
  },
  {
   "cell_type": "code",
   "execution_count": 34,
   "id": "3a8fd1dc",
   "metadata": {},
   "outputs": [],
   "source": [
    "classifier = joblib.load('decision_tree_df.joblib')\n"
   ]
  },
  {
   "cell_type": "code",
   "execution_count": 35,
   "id": "1cf94812",
   "metadata": {},
   "outputs": [
    {
     "name": "stdout",
     "output_type": "stream",
     "text": [
      "the first crime happened outside\n",
      "the second crime happened inside\n"
     ]
    }
   ],
   "source": [
    "predictions = best_model.predict(pd.concat([crime_outside, crime_inside]))\n",
    "for person, prediction in zip([\"the first crime happened\", \"the second crime happened\"], predictions):\n",
    "    print(f\"{person} {'inside' if prediction == 0  else 'outside'}\")"
   ]
  },
  {
   "cell_type": "code",
   "execution_count": 46,
   "id": "3686130b",
   "metadata": {},
   "outputs": [
    {
     "name": "stdout",
     "output_type": "stream",
     "text": [
      "              precision    recall  f1-score   support\n",
      "\n",
      "           0       1.00      1.00      1.00     29453\n",
      "           1       1.00      1.00      1.00     27709\n",
      "\n",
      "    accuracy                           1.00     57162\n",
      "   macro avg       1.00      1.00      1.00     57162\n",
      "weighted avg       1.00      1.00      1.00     57162\n",
      "\n"
     ]
    }
   ],
   "source": [
    "from sklearn.metrics import classification_report\n",
    "print(classification_report(y_test, y_test))"
   ]
  },
  {
   "cell_type": "code",
   "execution_count": 49,
   "id": "0e319c77",
   "metadata": {},
   "outputs": [
    {
     "data": {
      "text/plain": [
       "DecisionTreeClassifier(max_depth=5)"
      ]
     },
     "execution_count": 49,
     "metadata": {},
     "output_type": "execute_result"
    }
   ],
   "source": [
    "best_model.fit(X_train, y_train)"
   ]
  },
  {
   "cell_type": "code",
   "execution_count": 50,
   "id": "fb38fdbc",
   "metadata": {},
   "outputs": [],
   "source": [
    "y_pred_class = best_model.predict(X_test)"
   ]
  },
  {
   "cell_type": "code",
   "execution_count": 51,
   "id": "fb3cd5e9",
   "metadata": {},
   "outputs": [
    {
     "name": "stdout",
     "output_type": "stream",
     "text": [
      "0.7571113676918232\n"
     ]
    }
   ],
   "source": [
    "from sklearn import metrics\n",
    "print(metrics.accuracy_score(y_test, y_pred_class))"
   ]
  },
  {
   "cell_type": "code",
   "execution_count": 52,
   "id": "bbd69543",
   "metadata": {},
   "outputs": [
    {
     "name": "stdout",
     "output_type": "stream",
     "text": [
      "[[27654  1799]\n",
      " [12085 15624]]\n"
     ]
    }
   ],
   "source": [
    "confusion = metrics.confusion_matrix(y_test, y_pred_class)\n",
    "print(confusion)\n",
    "#[row, column]\n",
    "TP = confusion[1, 1]\n",
    "TN = confusion[0, 0]\n",
    "FP = confusion[0, 1]\n",
    "FN = confusion[1, 0]"
   ]
  },
  {
   "cell_type": "code",
   "execution_count": 60,
   "id": "b7e0b639",
   "metadata": {},
   "outputs": [
    {
     "name": "stdout",
     "output_type": "stream",
     "text": [
      "0.2428886323081768\n"
     ]
    }
   ],
   "source": [
    "classification_error = (FP + FN) / float(TP + TN + FP + FN)\n",
    "(classification_error)\n",
    "print(1 - metrics.accuracy_score(y_test, y_pred_class))"
   ]
  },
  {
   "cell_type": "code",
   "execution_count": 55,
   "id": "3ec1270c",
   "metadata": {},
   "outputs": [
    {
     "data": {
      "text/plain": [
       "0.5638601176513046"
      ]
     },
     "execution_count": 55,
     "metadata": {},
     "output_type": "execute_result"
    }
   ],
   "source": [
    "recall = TP/(TP + FN)\n",
    "precision = TP/(TP + FP)\n",
    "f1 = 2 * ((recall * precision)/(recall + precision))\n",
    "recall"
   ]
  },
  {
   "cell_type": "code",
   "execution_count": 58,
   "id": "7782189c",
   "metadata": {},
   "outputs": [
    {
     "name": "stdout",
     "output_type": "stream",
     "text": [
      "0.5638601176513046\n"
     ]
    }
   ],
   "source": [
    "sensitivität = TP / float(FN + TP)\n",
    "\n",
    "(sensitivität)\n",
    "\n",
    "print(metrics.recall_score(y_test, y_pred_class))"
   ]
  },
  {
   "cell_type": "code",
   "execution_count": 59,
   "id": "aa8dbedd",
   "metadata": {},
   "outputs": [
    {
     "name": "stdout",
     "output_type": "stream",
     "text": [
      "0.9389196346721896\n"
     ]
    }
   ],
   "source": [
    "Spezifizität = TN / (TN + FP)\n",
    "\n",
    "print(Spezifizität)"
   ]
  },
  {
   "cell_type": "markdown",
   "id": "0bc74f99",
   "metadata": {},
   "source": [
    "\"4.4\"\n",
    "\n",
    "Ich denke das mein Modell so gut funktioniert weil die in der Aufgabe 4.1 aufgeführten Felder so gut funktionieren und aussagekräftig sind. Meine Hypothese ist, das die Spalten, welche in X definiert sind, gut mit der Spalte zusammenarbeiten, welche y ist. Jedoch ist die y-Spalte alleine nicht sehr aussagekräftig. Ausserdem ist die Precision so hoch, weil ich für den X y Split die 4 aussagekräftigsten Spalten genommen habe und weil mein Datenset ca. 280tsd Einträge hat."
   ]
  }
 ],
 "metadata": {
  "kernelspec": {
   "display_name": "Python 3 (ipykernel)",
   "language": "python",
   "name": "python3"
  },
  "language_info": {
   "codemirror_mode": {
    "name": "ipython",
    "version": 3
   },
   "file_extension": ".py",
   "mimetype": "text/x-python",
   "name": "python",
   "nbconvert_exporter": "python",
   "pygments_lexer": "ipython3",
   "version": "3.10.2"
  }
 },
 "nbformat": 4,
 "nbformat_minor": 5
}
