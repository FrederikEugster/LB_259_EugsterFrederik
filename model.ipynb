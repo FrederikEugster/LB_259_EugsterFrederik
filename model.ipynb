{
 "cells": [
  {
   "cell_type": "markdown",
   "id": "9793f02b",
   "metadata": {},
   "source": [
    "\"3.1\"\n",
    "\n",
    "Um im dritten Teil besser mit den Daten arbeiten zu können, habe ich den Werten in einigen Spalten Zahlen zugewiesen. Die volle \n",
    "Übersicht finden Sie hier:\n",
    "\n",
    "ROBBERY – STREET = 1\n",
    "ROBBERY – COMMERCIAL = 2\n",
    "ROBBERY – CARJACKING = 3\n",
    "ROBBERY – RESIDENCE = 4\n",
    "LARCENY = 5\n",
    "LARCENY FROM AUTO = 6\n",
    "COMMON ASSAULT = 7\n",
    "AGG. ASSAULT = 8\n",
    "ASSAULT BY THREAT = 9\n",
    "BURGLARY = 10\n",
    "AUTO THEFT = 11\n",
    "ARSON = 12\n",
    "HOMICIDE = 13\n",
    "RAPE = 14\n",
    "SHOOTING = 15\n",
    "\n",
    "------------------\n",
    "INSIDE = 0\n",
    "OUTSIDE = 1\n",
    "\n",
    "------------------\n",
    "NULL = 0\n",
    "OTHER = 1\n",
    "HANDS = 2\n",
    "KNIFE = 3\n",
    "FIREARM = 4\n",
    "\n",
    "-------------------\n",
    "CENTRAL = 0\n",
    "SOUTHERN = 1\n",
    "EASTERN = 2\n",
    "WESTERN = 3\n",
    "NORTHERN = 4\n",
    "NORTHEASTERN = 5\n",
    "SOUTHEASTERN = 6\n",
    "NORTHWESTERN = 7\n",
    "SOUTHWESTERN = 8\n",
    "SOUTHESTREN = 9\n",
    "NORTHESTREN = 10\n",
    "\n",
    "Nun muss ich das Datenset nochmal importieren."
   ]
  },
  {
   "cell_type": "code",
   "execution_count": 1,
   "id": "60190d0d",
   "metadata": {},
   "outputs": [
    {
     "name": "stdout",
     "output_type": "stream",
     "text": [
      "Requirement already satisfied: pandas in c:\\apps\\python\\lib\\site-packages (1.4.1)\n",
      "Requirement already satisfied: pytz>=2020.1 in c:\\apps\\python\\lib\\site-packages (from pandas) (2022.1)\n",
      "Requirement already satisfied: python-dateutil>=2.8.1 in c:\\apps\\python\\lib\\site-packages (from pandas) (2.8.2)\n",
      "Requirement already satisfied: numpy>=1.21.0 in c:\\apps\\python\\lib\\site-packages (from pandas) (1.22.3)\n",
      "Requirement already satisfied: six>=1.5 in c:\\apps\\python\\lib\\site-packages (from python-dateutil>=2.8.1->pandas) (1.16.0)\n"
     ]
    }
   ],
   "source": [
    "!pip install pandas"
   ]
  },
  {
   "cell_type": "code",
   "execution_count": 2,
   "id": "97e6f9fe",
   "metadata": {},
   "outputs": [],
   "source": [
    "import pandas as pd\n",
    "\n",
    "df = pd.read_csv(\"BPD_Victim_Based_Crime_Date_Sorted_With_Numbers.CSV\", on_bad_lines='skip', sep=';')"
   ]
  },
  {
   "cell_type": "code",
   "execution_count": 3,
   "id": "c363fb3a",
   "metadata": {},
   "outputs": [
    {
     "data": {
      "text/html": [
       "<div>\n",
       "<style scoped>\n",
       "    .dataframe tbody tr th:only-of-type {\n",
       "        vertical-align: middle;\n",
       "    }\n",
       "\n",
       "    .dataframe tbody tr th {\n",
       "        vertical-align: top;\n",
       "    }\n",
       "\n",
       "    .dataframe thead th {\n",
       "        text-align: right;\n",
       "    }\n",
       "</style>\n",
       "<table border=\"1\" class=\"dataframe\">\n",
       "  <thead>\n",
       "    <tr style=\"text-align: right;\">\n",
       "      <th></th>\n",
       "      <th>CrimeDate</th>\n",
       "      <th>CrimeTime</th>\n",
       "      <th>CrimeCode</th>\n",
       "      <th>Location</th>\n",
       "      <th>Description</th>\n",
       "      <th>Inside / Outside</th>\n",
       "      <th>Weapon</th>\n",
       "      <th>Post</th>\n",
       "      <th>District</th>\n",
       "      <th>Neighborhood</th>\n",
       "      <th>Location 1</th>\n",
       "      <th>Total Incidents</th>\n",
       "    </tr>\n",
       "  </thead>\n",
       "  <tbody>\n",
       "    <tr>\n",
       "      <th>0</th>\n",
       "      <td>11.12.2016</td>\n",
       "      <td>23500</td>\n",
       "      <td>3B</td>\n",
       "      <td>300 SAINT PAUL PL</td>\n",
       "      <td>1</td>\n",
       "      <td>1</td>\n",
       "      <td>0</td>\n",
       "      <td>111</td>\n",
       "      <td>0</td>\n",
       "      <td>Downtown</td>\n",
       "      <td>(39.2924100000, -76.6140800000)</td>\n",
       "      <td>1</td>\n",
       "    </tr>\n",
       "    <tr>\n",
       "      <th>1</th>\n",
       "      <td>11.12.2016</td>\n",
       "      <td>25600</td>\n",
       "      <td>3CF</td>\n",
       "      <td>800 S BROADWAY</td>\n",
       "      <td>2</td>\n",
       "      <td>0</td>\n",
       "      <td>4</td>\n",
       "      <td>213</td>\n",
       "      <td>6</td>\n",
       "      <td>Fells Point</td>\n",
       "      <td>(39.2824200000, -76.5928800000)</td>\n",
       "      <td>1</td>\n",
       "    </tr>\n",
       "    <tr>\n",
       "      <th>2</th>\n",
       "      <td>11.12.2016</td>\n",
       "      <td>30000</td>\n",
       "      <td>6D</td>\n",
       "      <td>1500 PENTWOOD RD</td>\n",
       "      <td>6</td>\n",
       "      <td>1</td>\n",
       "      <td>0</td>\n",
       "      <td>413</td>\n",
       "      <td>5</td>\n",
       "      <td>Stonewood-Pentwood-Winston</td>\n",
       "      <td>(39.3480500000, -76.5883400000)</td>\n",
       "      <td>1</td>\n",
       "    </tr>\n",
       "    <tr>\n",
       "      <th>3</th>\n",
       "      <td>11.12.2016</td>\n",
       "      <td>30000</td>\n",
       "      <td>6D</td>\n",
       "      <td>6600 MILTON LN</td>\n",
       "      <td>6</td>\n",
       "      <td>1</td>\n",
       "      <td>0</td>\n",
       "      <td>424</td>\n",
       "      <td>5</td>\n",
       "      <td>Westfield</td>\n",
       "      <td>(39.3626300000, -76.5516100000)</td>\n",
       "      <td>1</td>\n",
       "    </tr>\n",
       "    <tr>\n",
       "      <th>4</th>\n",
       "      <td>11.12.2016</td>\n",
       "      <td>30000</td>\n",
       "      <td>6E</td>\n",
       "      <td>300 W BALTIMORE ST</td>\n",
       "      <td>5</td>\n",
       "      <td>1</td>\n",
       "      <td>0</td>\n",
       "      <td>111</td>\n",
       "      <td>0</td>\n",
       "      <td>Downtown</td>\n",
       "      <td>(39.2893800000, -76.6197100000)</td>\n",
       "      <td>1</td>\n",
       "    </tr>\n",
       "  </tbody>\n",
       "</table>\n",
       "</div>"
      ],
      "text/plain": [
       "    CrimeDate  CrimeTime CrimeCode            Location  Description  \\\n",
       "0  11.12.2016      23500        3B   300 SAINT PAUL PL            1   \n",
       "1  11.12.2016      25600       3CF      800 S BROADWAY            2   \n",
       "2  11.12.2016      30000        6D    1500 PENTWOOD RD            6   \n",
       "3  11.12.2016      30000        6D      6600 MILTON LN            6   \n",
       "4  11.12.2016      30000        6E  300 W BALTIMORE ST            5   \n",
       "\n",
       "   Inside / Outside  Weapon  Post  District                Neighborhood  \\\n",
       "0                 1       0   111         0                    Downtown   \n",
       "1                 0       4   213         6                 Fells Point   \n",
       "2                 1       0   413         5  Stonewood-Pentwood-Winston   \n",
       "3                 1       0   424         5                   Westfield   \n",
       "4                 1       0   111         0                    Downtown   \n",
       "\n",
       "                        Location 1  Total Incidents  \n",
       "0  (39.2924100000, -76.6140800000)                1  \n",
       "1  (39.2824200000, -76.5928800000)                1  \n",
       "2  (39.3480500000, -76.5883400000)                1  \n",
       "3  (39.3626300000, -76.5516100000)                1  \n",
       "4  (39.2893800000, -76.6197100000)                1  "
      ]
     },
     "execution_count": 3,
     "metadata": {},
     "output_type": "execute_result"
    }
   ],
   "source": [
    "df.head()"
   ]
  },
  {
   "cell_type": "code",
   "execution_count": 4,
   "id": "ab90e7fe",
   "metadata": {},
   "outputs": [
    {
     "data": {
      "text/plain": [
       "0          1\n",
       "1          2\n",
       "2          6\n",
       "3          6\n",
       "4          5\n",
       "          ..\n",
       "285802     8\n",
       "285803     5\n",
       "285804    11\n",
       "285805     7\n",
       "285806     8\n",
       "Name: Description, Length: 285807, dtype: int32"
      ]
     },
     "execution_count": 4,
     "metadata": {},
     "output_type": "execute_result"
    }
   ],
   "source": [
    "df['Description'].astype('int')"
   ]
  },
  {
   "cell_type": "code",
   "execution_count": 5,
   "id": "08918994",
   "metadata": {},
   "outputs": [
    {
     "data": {
      "text/plain": [
       "0         1\n",
       "1         0\n",
       "2         1\n",
       "3         1\n",
       "4         1\n",
       "         ..\n",
       "285802    0\n",
       "285803    0\n",
       "285804    1\n",
       "285805    0\n",
       "285806    0\n",
       "Name: Inside / Outside, Length: 285807, dtype: int32"
      ]
     },
     "execution_count": 5,
     "metadata": {},
     "output_type": "execute_result"
    }
   ],
   "source": [
    "df['Inside / Outside'].astype('int')"
   ]
  },
  {
   "cell_type": "code",
   "execution_count": 6,
   "id": "d6b5d8de",
   "metadata": {},
   "outputs": [
    {
     "data": {
      "text/plain": [
       "0         0\n",
       "1         4\n",
       "2         0\n",
       "3         0\n",
       "4         0\n",
       "         ..\n",
       "285802    2\n",
       "285803    0\n",
       "285804    0\n",
       "285805    2\n",
       "285806    2\n",
       "Name: Weapon, Length: 285807, dtype: int32"
      ]
     },
     "execution_count": 6,
     "metadata": {},
     "output_type": "execute_result"
    }
   ],
   "source": [
    "df['Weapon'].astype('int')"
   ]
  },
  {
   "cell_type": "code",
   "execution_count": 7,
   "id": "0f32ec44",
   "metadata": {},
   "outputs": [
    {
     "data": {
      "text/plain": [
       "0         0\n",
       "1         6\n",
       "2         5\n",
       "3         5\n",
       "4         0\n",
       "         ..\n",
       "285802    5\n",
       "285803    6\n",
       "285804    3\n",
       "285805    3\n",
       "285806    3\n",
       "Name: District, Length: 285807, dtype: int32"
      ]
     },
     "execution_count": 7,
     "metadata": {},
     "output_type": "execute_result"
    }
   ],
   "source": [
    "df['District'].astype('int')"
   ]
  },
  {
   "cell_type": "code",
   "execution_count": 8,
   "id": "9e45248e",
   "metadata": {},
   "outputs": [
    {
     "name": "stdout",
     "output_type": "stream",
     "text": [
      "<class 'pandas.core.frame.DataFrame'>\n",
      "RangeIndex: 285807 entries, 0 to 285806\n",
      "Data columns (total 12 columns):\n",
      " #   Column            Non-Null Count   Dtype \n",
      "---  ------            --------------   ----- \n",
      " 0   CrimeDate         111888 non-null  object\n",
      " 1   CrimeTime         285807 non-null  int64 \n",
      " 2   CrimeCode         285807 non-null  object\n",
      " 3   Location          284184 non-null  object\n",
      " 4   Description       285807 non-null  int64 \n",
      " 5   Inside / Outside  285807 non-null  int64 \n",
      " 6   Weapon            285807 non-null  int64 \n",
      " 7   Post              285807 non-null  int64 \n",
      " 8   District          285807 non-null  int64 \n",
      " 9   Neighborhood      284106 non-null  object\n",
      " 10  Location 1        284188 non-null  object\n",
      " 11  Total Incidents   285807 non-null  int64 \n",
      "dtypes: int64(7), object(5)\n",
      "memory usage: 26.2+ MB\n"
     ]
    }
   ],
   "source": [
    "df.info()"
   ]
  },
  {
   "cell_type": "code",
   "execution_count": 9,
   "id": "75683e1e",
   "metadata": {},
   "outputs": [
    {
     "data": {
      "text/html": [
       "<div>\n",
       "<style scoped>\n",
       "    .dataframe tbody tr th:only-of-type {\n",
       "        vertical-align: middle;\n",
       "    }\n",
       "\n",
       "    .dataframe tbody tr th {\n",
       "        vertical-align: top;\n",
       "    }\n",
       "\n",
       "    .dataframe thead th {\n",
       "        text-align: right;\n",
       "    }\n",
       "</style>\n",
       "<table border=\"1\" class=\"dataframe\">\n",
       "  <thead>\n",
       "    <tr style=\"text-align: right;\">\n",
       "      <th></th>\n",
       "      <th>Description</th>\n",
       "      <th>Weapon</th>\n",
       "      <th>District</th>\n",
       "    </tr>\n",
       "  </thead>\n",
       "  <tbody>\n",
       "    <tr>\n",
       "      <th>0</th>\n",
       "      <td>1</td>\n",
       "      <td>0</td>\n",
       "      <td>0</td>\n",
       "    </tr>\n",
       "    <tr>\n",
       "      <th>1</th>\n",
       "      <td>2</td>\n",
       "      <td>4</td>\n",
       "      <td>6</td>\n",
       "    </tr>\n",
       "    <tr>\n",
       "      <th>2</th>\n",
       "      <td>6</td>\n",
       "      <td>0</td>\n",
       "      <td>5</td>\n",
       "    </tr>\n",
       "    <tr>\n",
       "      <th>3</th>\n",
       "      <td>6</td>\n",
       "      <td>0</td>\n",
       "      <td>5</td>\n",
       "    </tr>\n",
       "    <tr>\n",
       "      <th>4</th>\n",
       "      <td>5</td>\n",
       "      <td>0</td>\n",
       "      <td>0</td>\n",
       "    </tr>\n",
       "  </tbody>\n",
       "</table>\n",
       "</div>"
      ],
      "text/plain": [
       "   Description  Weapon  District\n",
       "0            1       0         0\n",
       "1            2       4         6\n",
       "2            6       0         5\n",
       "3            6       0         5\n",
       "4            5       0         0"
      ]
     },
     "execution_count": 9,
     "metadata": {},
     "output_type": "execute_result"
    }
   ],
   "source": [
    "X = df[[\"Description\", \"Weapon\", \"District\"]]\n",
    "y = df[[\"Inside / Outside\"]]\n",
    "X.head()"
   ]
  },
  {
   "cell_type": "code",
   "execution_count": 10,
   "id": "c587305b",
   "metadata": {},
   "outputs": [
    {
     "data": {
      "text/plain": [
       "0"
      ]
     },
     "execution_count": 10,
     "metadata": {},
     "output_type": "execute_result"
    }
   ],
   "source": [
    "len(X[X.isna().any(axis=1)])"
   ]
  },
  {
   "cell_type": "code",
   "execution_count": 11,
   "id": "4c9c915d",
   "metadata": {},
   "outputs": [
    {
     "name": "stdout",
     "output_type": "stream",
     "text": [
      "Requirement already satisfied: sklearn in c:\\apps\\python\\lib\\site-packages (0.0)\n",
      "Requirement already satisfied: scikit-learn in c:\\apps\\python\\lib\\site-packages (from sklearn) (1.0.2)\n",
      "Requirement already satisfied: numpy>=1.14.6 in c:\\apps\\python\\lib\\site-packages (from scikit-learn->sklearn) (1.22.3)\n",
      "Requirement already satisfied: scipy>=1.1.0 in c:\\apps\\python\\lib\\site-packages (from scikit-learn->sklearn) (1.8.0)\n",
      "Requirement already satisfied: joblib>=0.11 in c:\\apps\\python\\lib\\site-packages (from scikit-learn->sklearn) (1.1.0)\n",
      "Requirement already satisfied: threadpoolctl>=2.0.0 in c:\\apps\\python\\lib\\site-packages (from scikit-learn->sklearn) (3.1.0)\n"
     ]
    }
   ],
   "source": [
    "!pip install sklearn"
   ]
  },
  {
   "cell_type": "code",
   "execution_count": 12,
   "id": "323ad38d",
   "metadata": {},
   "outputs": [],
   "source": [
    "from sklearn.impute import SimpleImputer"
   ]
  },
  {
   "cell_type": "code",
   "execution_count": 13,
   "id": "78219045",
   "metadata": {},
   "outputs": [],
   "source": [
    "from sklearn.model_selection import train_test_split"
   ]
  },
  {
   "cell_type": "code",
   "execution_count": 14,
   "id": "8cfcbade",
   "metadata": {},
   "outputs": [
    {
     "data": {
      "text/plain": [
       "(228645, 57162)"
      ]
     },
     "execution_count": 14,
     "metadata": {},
     "output_type": "execute_result"
    }
   ],
   "source": [
    "from sklearn.model_selection import train_test_split\n",
    "\n",
    "X_train, X_test, y_train, y_test = train_test_split(\n",
    "   X, y, test_size = 0.2, random_state = 42\n",
    ")\n",
    "\n",
    "len(X_train), len(X_test)"
   ]
  },
  {
   "cell_type": "code",
   "execution_count": 15,
   "id": "0e7a058d",
   "metadata": {},
   "outputs": [
    {
     "name": "stdout",
     "output_type": "stream",
     "text": [
      "Nearest Neighbors 0.73\n",
      "Stochastic Gradient Descent 0.48\n",
      "Decision Tree 0.76\n",
      "Random Forest 0.68\n",
      "Neural Net 0.75\n"
     ]
    },
    {
     "name": "stderr",
     "output_type": "stream",
     "text": [
      "C:\\Apps\\Python\\lib\\site-packages\\sklearn\\neural_network\\_multilayer_perceptron.py:699: UserWarning: Training interrupted by user.\n",
      "  warnings.warn(\"Training interrupted by user.\")\n"
     ]
    }
   ],
   "source": [
    "\"3.2\"\n",
    "\n",
    "\n",
    "from sklearn.neural_network import MLPClassifier\n",
    "from sklearn.neighbors import KNeighborsClassifier\n",
    "from sklearn.linear_model import SGDClassifier\n",
    "from sklearn.tree import DecisionTreeClassifier\n",
    "from sklearn.ensemble import RandomForestClassifier\n",
    "\n",
    "algorithms = {\n",
    "    \"Nearest Neighbors\" : KNeighborsClassifier(3),\n",
    "    \"Stochastic Gradient Descent\" : SGDClassifier(),\n",
    "    \"Decision Tree\" : DecisionTreeClassifier(max_depth=5),\n",
    "    \"Random Forest\" : RandomForestClassifier(max_depth=5, n_estimators=10, max_features=1),\n",
    "    \"Neural Net\" : MLPClassifier(alpha=1, max_iter=1000),\n",
    "\n",
    "\n",
    "}\n",
    "\n",
    "\n",
    "for name, algorithm in algorithms.items():\n",
    "    algorithm.fit(X_train, y_train.values.ravel())\n",
    "\n",
    "    score = algorithm.score(X_test, y_test)\n",
    "    print(name, round(score,2))"
   ]
  },
  {
   "cell_type": "markdown",
   "id": "0f6cbbca",
   "metadata": {},
   "source": [
    "Ich habe mich für den Algorithmus \"Decision Tree\" entschieden. Ich habe mich für diesen entschieden, weil\n",
    "der Algorithmus oben dem Decision Tree die beste Wertung zugewiesen hat. Darauf hin habe ich ein wenig zum Decision Tree \n",
    "informiert, was meine Wahl nur noch mehr bestätigt hat. Jedoch konnte ich oben nicht alle möglichen Algorithmen testen, weil\n",
    "ein paar sich nicht testen liessen und das Programm nicht aufhörte."
   ]
  },
  {
   "cell_type": "code",
   "execution_count": 17,
   "id": "ce86e087",
   "metadata": {},
   "outputs": [
    {
     "data": {
      "text/plain": [
       "DecisionTreeClassifier(max_depth=5)"
      ]
     },
     "execution_count": 17,
     "metadata": {},
     "output_type": "execute_result"
    }
   ],
   "source": [
    "\"3.3\"\n",
    "\n",
    "import joblib\n",
    "joblib.dump(algorithms[\"Decision Tree\"], 'decision_tree_df.joblib')\n",
    "best_model = joblib.load('decision_tree_df.joblib')\n",
    "best_model"
   ]
  },
  {
   "cell_type": "code",
   "execution_count": 38,
   "id": "65de9dab",
   "metadata": {},
   "outputs": [
    {
     "data": {
      "text/html": [
       "<div>\n",
       "<style scoped>\n",
       "    .dataframe tbody tr th:only-of-type {\n",
       "        vertical-align: middle;\n",
       "    }\n",
       "\n",
       "    .dataframe tbody tr th {\n",
       "        vertical-align: top;\n",
       "    }\n",
       "\n",
       "    .dataframe thead th {\n",
       "        text-align: right;\n",
       "    }\n",
       "</style>\n",
       "<table border=\"1\" class=\"dataframe\">\n",
       "  <thead>\n",
       "    <tr style=\"text-align: right;\">\n",
       "      <th></th>\n",
       "      <th>Description</th>\n",
       "      <th>Weapon</th>\n",
       "      <th>District</th>\n",
       "    </tr>\n",
       "  </thead>\n",
       "  <tbody>\n",
       "    <tr>\n",
       "      <th>0</th>\n",
       "      <td>1</td>\n",
       "      <td>0</td>\n",
       "      <td>0</td>\n",
       "    </tr>\n",
       "    <tr>\n",
       "      <th>0</th>\n",
       "      <td>8</td>\n",
       "      <td>2</td>\n",
       "      <td>4</td>\n",
       "    </tr>\n",
       "  </tbody>\n",
       "</table>\n",
       "</div>"
      ],
      "text/plain": [
       "   Description  Weapon  District\n",
       "0            1       0         0\n",
       "0            8       2         4"
      ]
     },
     "execution_count": 38,
     "metadata": {},
     "output_type": "execute_result"
    }
   ],
   "source": [
    "crime_outside = pd.DataFrame([[1, 0, 0,]], columns=X_test.columns)\n",
    "## \"Description\", \"Weapon\", \"District\"\n",
    "crime_outside.head()\n",
    "\n",
    "crime_inside = pd.DataFrame([[8, 2, 4,]], columns=X_test.columns)\n",
    "## \"Description\", \"Weapon\", \"District\"\n",
    "crime_inside.head()\n",
    "\n",
    "ab = pd.concat([crime_outside, crime_inside])\n",
    "ab.head()\n"
   ]
  },
  {
   "cell_type": "code",
   "execution_count": 39,
   "id": "82a3aaea",
   "metadata": {},
   "outputs": [
    {
     "name": "stdout",
     "output_type": "stream",
     "text": [
      "the first crime happened outside\n",
      "the second crime happened inside\n"
     ]
    }
   ],
   "source": [
    "predictions = best_model.predict(pd.concat([crime_outside, crime_inside]))\n",
    "for person, prediction in zip([\"the first crime happened\", \"the second crime happened\"], predictions):\n",
    "    print(f\"{person} {'inside' if prediction == 0  else 'outside'}\")"
   ]
  },
  {
   "cell_type": "markdown",
   "id": "87aa2061",
   "metadata": {},
   "source": [
    "Die Predictions drehen sich darum, ob das Verbrechen innerhalb eines Gebäudes oder ausserhalb eines Gebäudes stattfand. Also \"Inside / Outside\". Es wird anhand der Beschreibung, Waffe und dem Distrikt bestimmt, ob das Verbrechen in einem Gebäude oder ausserhalb eines Gebäudes stattgefunden hat. Der Algorithmus hat korrekt bestimmt, dass das erste Verbrechen, bei dem die Konvertierung in der Reihenfolge «Description», \"Weapon\", \"District\" wie folgt lautet: 1 -> «ROBBERY – STREET», 0  -> «NULL>, 0 -> «CENTRAL», ausserhalb eines Gebäudes stattgefunden hat. Die Zweite Prediction war ebenfalls richtig. "
   ]
  }
 ],
 "metadata": {
  "kernelspec": {
   "display_name": "Python 3 (ipykernel)",
   "language": "python",
   "name": "python3"
  },
  "language_info": {
   "codemirror_mode": {
    "name": "ipython",
    "version": 3
   },
   "file_extension": ".py",
   "mimetype": "text/x-python",
   "name": "python",
   "nbconvert_exporter": "python",
   "pygments_lexer": "ipython3",
   "version": "3.10.2"
  }
 },
 "nbformat": 4,
 "nbformat_minor": 5
}
